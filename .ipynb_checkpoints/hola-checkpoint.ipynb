{
 "cells": [
  {
   "cell_type": "code",
   "execution_count": 1,
   "id": "f4dc7494-992a-442d-9be8-bb2a2435a3f4",
   "metadata": {},
   "outputs": [
    {
     "name": "stdout",
     "output_type": "stream",
     "text": [
      "Hola Fabián\n"
     ]
    }
   ],
   "source": [
    "print(\"Hola Fabián\")"
   ]
  },
  {
   "cell_type": "code",
   "execution_count": null,
   "id": "068408e4-dd12-4740-9060-a7eb215c76e1",
   "metadata": {},
   "outputs": [],
   "source": []
  }
 ],
 "metadata": {
  "kernelspec": {
   "display_name": "Python 3 (ipykernel)",
   "language": "python",
   "name": "python3"
  },
  "language_info": {
   "codemirror_mode": {
    "name": "ipython",
    "version": 3
   },
   "file_extension": ".py",
   "mimetype": "text/x-python",
   "name": "python",
   "nbconvert_exporter": "python",
   "pygments_lexer": "ipython3",
   "version": "3.11.2"
  }
 },
 "nbformat": 4,
 "nbformat_minor": 5
}
