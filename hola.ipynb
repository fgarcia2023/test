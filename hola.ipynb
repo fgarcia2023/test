{
 "cells": [
  {
   "cell_type": "code",
   "execution_count": 1,
   "id": "f4dc7494-992a-442d-9be8-bb2a2435a3f4",
   "metadata": {},
   "outputs": [
    {
     "name": "stdout",
     "output_type": "stream",
     "text": [
      "Hola Fabián\n"
     ]
    }
   ],
   "source": [
    "print(\"Hola Fabián\")"
   ]
  },
  {
   "cell_type": "code",
   "execution_count": 2,
   "id": "068408e4-dd12-4740-9060-a7eb215c76e1",
   "metadata": {},
   "outputs": [
    {
     "name": "stdout",
     "output_type": "stream",
     "text": [
      "Object `primos` not found.\n"
     ]
    }
   ],
   "source": []
  },
  {
   "cell_type": "code",
   "execution_count": null,
   "id": "8cdd900f-dc4b-43a4-af4f-63439f0dda8c",
   "metadata": {},
   "outputs": [],
   "source": []
  }
 ],
 "metadata": {
  "kernelspec": {
   "display_name": "Python 3 (ipykernel)",
   "language": "python",
   "name": "python3"
  },
  "language_info": {
   "codemirror_mode": {
    "name": "ipython",
    "version": 3
   },
   "file_extension": ".py",
   "mimetype": "text/x-python",
   "name": "python",
   "nbconvert_exporter": "python",
   "pygments_lexer": "ipython3",
   "version": "3.11.2"
  }
 },
 "nbformat": 4,
 "nbformat_minor": 5
}
